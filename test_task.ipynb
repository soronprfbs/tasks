{
 "cells": [
  {
   "cell_type": "markdown",
   "metadata": {},
   "source": [
    "# Задача 1\n",
    "\n",
    "Есть файл с именами (names.txt), нужно выполнить следующие действия и посчитать результат:  \n",
    "1. Отсортировать все имена в лексикографическом порядке;  \n",
    "2. Посчитать для каждого имени алфавитную сумму – сумму порядковых номеров букв (MAY: 13 + 1 + 25 = 39);  \n",
    "3. Умножить алфавитную сумму каждого имени на порядковый номер имени в отсортированном списке (индексация начинается с 1). Например, если MAY находится на 63 месте в списке, то результат для него будет 63 * 39 = 2457;  \n",
    "4. Просуммировать произведения из пункта 3 для всех имен из файла и получить число. Это число и будет ответом."
   ]
  },
  {
   "cell_type": "code",
   "execution_count": 1,
   "metadata": {},
   "outputs": [],
   "source": [
    "import pandas as pd"
   ]
  },
  {
   "cell_type": "code",
   "execution_count": 2,
   "metadata": {},
   "outputs": [],
   "source": [
    "with open('names.txt') as f:\n",
    "    text = f.read()\n",
    "names = [name[1:-1] for name in text.split(',')]"
   ]
  },
  {
   "cell_type": "code",
   "execution_count": 3,
   "metadata": {},
   "outputs": [],
   "source": [
    "data = pd.DataFrame(names, columns=['name'])\n",
    "data = data.sort_values(by='name').reset_index(drop=True).reset_index()\n",
    "data['index'] = data['index'] + 1\n",
    "data.columns = ['pos', 'name']"
   ]
  },
  {
   "cell_type": "code",
   "execution_count": 4,
   "metadata": {},
   "outputs": [],
   "source": [
    "num_to_let = {key: value for (key, value) in enumerate('ABCDEFGHIJKLMNOPQRSTUWVXYZ', 1)}\n",
    "let_to_nam = {v: k for k, v in num_to_let.items()}"
   ]
  },
  {
   "cell_type": "code",
   "execution_count": 5,
   "metadata": {},
   "outputs": [],
   "source": [
    "def counter(name):\n",
    "    s = 0\n",
    "    for i in name:\n",
    "        s += let_to_nam[i]\n",
    "    return(s)"
   ]
  },
  {
   "cell_type": "code",
   "execution_count": 6,
   "metadata": {},
   "outputs": [],
   "source": [
    "data['sum'] = data['name'].apply(counter)\n",
    "data['mult'] = data['pos'] * data['sum']"
   ]
  },
  {
   "cell_type": "code",
   "execution_count": 7,
   "metadata": {},
   "outputs": [
    {
     "data": {
      "text/plain": [
       "872299863"
      ]
     },
     "execution_count": 7,
     "metadata": {},
     "output_type": "execute_result"
    }
   ],
   "source": [
    "data['mult'].sum()"
   ]
  },
  {
   "cell_type": "markdown",
   "metadata": {},
   "source": [
    "# Задача 2\n",
    "\n",
    "Есть файл со строками (hist.txt) вида: ```<host>\\t<ip>\\t<page>\\n```. Нужно вывести 5 айпи-адресов, которые встречаются чаще других."
   ]
  },
  {
   "cell_type": "code",
   "execution_count": 8,
   "metadata": {},
   "outputs": [],
   "source": [
    "import re\n",
    "from collections import Counter"
   ]
  },
  {
   "cell_type": "code",
   "execution_count": 9,
   "metadata": {},
   "outputs": [],
   "source": [
    "with open('hits.txt') as f:\n",
    "    lines = [line.strip() for line in f]"
   ]
  },
  {
   "cell_type": "code",
   "execution_count": 10,
   "metadata": {},
   "outputs": [],
   "source": [
    "pattern = '\\t(.*?)\\t'"
   ]
  },
  {
   "cell_type": "code",
   "execution_count": 11,
   "metadata": {},
   "outputs": [],
   "source": [
    "ip = [re.search(pattern, line).group()[1:-1] for line in lines]"
   ]
  },
  {
   "cell_type": "code",
   "execution_count": 12,
   "metadata": {},
   "outputs": [],
   "source": [
    "c = Counter()"
   ]
  },
  {
   "cell_type": "code",
   "execution_count": 13,
   "metadata": {},
   "outputs": [],
   "source": [
    "for num in ip:\n",
    "    c[num] += 1"
   ]
  },
  {
   "cell_type": "code",
   "execution_count": 14,
   "metadata": {},
   "outputs": [
    {
     "data": {
      "text/plain": [
       "[('154.157.157.156', 1531),\n",
       " ('82.146.232.163', 1505),\n",
       " ('194.78.107.33', 1494),\n",
       " ('226.247.119.128', 1494),\n",
       " ('21.143.243.182', 1479)]"
      ]
     },
     "execution_count": 14,
     "metadata": {},
     "output_type": "execute_result"
    }
   ],
   "source": [
    "c.most_common(5)"
   ]
  },
  {
   "cell_type": "markdown",
   "metadata": {},
   "source": [
    "# Задача 3\n",
    "\n",
    "В школе ученики и репетиторы занимаются в специальном онлайн-классе, в котором они могут общаться друг с другом, рисовать на доске, переписываться в чате, обмениваться файлами и решать различные задачки. Информациz о каждом уроке записывается в базу данных в таблицу lessons. На каждом таком уроке присутствует один репетитор и один ученик (существуют еще тренировочные уроки, у которых единственный участник – репетитор, но для нашей задачи они неинтересны). В конце урока, когда учитель и ученик покидают класс, они могут оценить (а могут и пропустить этот этап) качество пройденного урока по пятибальной шкале. Все оценки записываются в таблицу quality, чтобы мы могли узнавать, хорошо ли работает наш сайт.\n",
    "\n",
    "**Нужно в каждый день найти репетитора, уроки которого получили самую низкую оценку качества, и вывести эту оценку.**\n",
    "\n",
    "lessons.txt содержит следующие поля:  \n",
    "id – уникальный идентификатор урока  \n",
    "event_id – идентификатор, связывающий уроки с файлом participants; у нескольких уроков может быть один и тот же event_id  \n",
    "subject – предмет урока, просто строка  \n",
    "scheduled_time – время начала урока, в формате ГГГГ-ММ-ДД чч:мм:сс (иногда есть еще миллисекунды); время указано в UTC  \n",
    "\n",
    "quality.txt содержит следующие поля:  \n",
    "lesson_id – идентификатор урока, указывает на запись в таблице lessons.txt, у нескольких строчек из этого файла может быть один и тот же lesson_id, потому что оценок за урок может быть несколько (например, оба участника, ученик и репетитор могут оценить качество урока)  \n",
    "tech_quality – оценка качества урока, это число от 1 до 5; иногда его может не быть, если пользователь не выставил оценку  \n",
    "\n",
    "users.txt хранит информацию о пользователях и содержит два поля:\n",
    "id – уникальный идентификатор пользователя  \n",
    "role – указывает является ли пользователь учеником (pupil) или учителем (tutor)  \n",
    "\n",
    "participants.txt позволяет связать урок с его участниками, он содержит следующие поля:  \n",
    "user_id – идентификатор пользователя (указывает на запись в файле users.txt)  \n",
    "event_id – идентификатор, связывающий урок с участником. То есть, чтобы понять, какие пользователи были на уроке Х, нужно найти в файле participants.txt строки, у которых event_id совпадает с event_id урока Х  \n",
    "\n",
    "Для решения задачки нужно сделать следующее:\n",
    "1. Найти все уроки по физике (subject=phys).\n",
    "2. В каждый день (начало и конец дня считается по московскому времени, то есть UTC+3:00) для каждого репетитора посчитать среднюю арифметическую оценку за его уроки (учитывать только уроки из пункта 1). То есть, если учитель проводил в этот день три урока по физике, один из них он оценил на 3, а ученик оценил его на 4, второму уроку оценку поставил только ученик, и эта оценка 5, а третий урок вообще никто не оценил, то средняя арифметическая оценка учителя за уроки = (3 + 4 + 5) / 3 = 4.\n",
    "3. Найти учителя, который в этот день имеет самую низкую среднюю арифметическую оценку за уроки (среди всех учителей, проводивших уроки по физике в этот день).\n",
    "4. Вывести его в формате “<день> <id учителя> <средняя арифметическая оценка>“. Оценку можно округлить с точностью до двух знаков после запятой. Например:  \n",
    "```2020-01-11 73c9af08-8581-430c-a590-9888ab36deb3 3.67```  \n",
    "```2020-01-12 909c2c8e-c054-4e9f-a51a-50bf5660f364 3.25```  \n",
    "```...```\n",
    "4. Учитывать нужно только тех учителей, за уроки по физике которых в этот день стоит хотя бы одна оценка. Если у нескольких учителей одна и та же самая оценка, можно вывести любого.\n",
    "5. Если есть необходимость, предварительно можно предобработать данные (сконвертировав их в csv или загрузив в базу данных) и работать уже с ними."
   ]
  },
  {
   "cell_type": "code",
   "execution_count": 15,
   "metadata": {},
   "outputs": [],
   "source": [
    "from datetime import datetime\n",
    "from datetime import timedelta"
   ]
  },
  {
   "cell_type": "code",
   "execution_count": 16,
   "metadata": {},
   "outputs": [],
   "source": [
    "lessons = pd.read_csv('tech_quality/lessons.csv')\n",
    "participants = pd.read_csv('tech_quality/participants.csv')\n",
    "quality = pd.read_csv('tech_quality/quality.csv')\n",
    "users = pd.read_csv('tech_quality/users.csv')"
   ]
  },
  {
   "cell_type": "code",
   "execution_count": 17,
   "metadata": {},
   "outputs": [],
   "source": [
    "quality = quality.iloc[:365]\n",
    "quality = quality.groupby(by='lesson_id').mean() # Средняя оценка за каждый урок\n",
    "quality.reset_index(inplace=True)\n",
    "quality.columns = ['id', 'tech_quality']"
   ]
  },
  {
   "cell_type": "code",
   "execution_count": 18,
   "metadata": {},
   "outputs": [],
   "source": [
    "tutors = users[users['role'] == 'tutor'] # Выберем только учителей\n",
    "tutors.columns = ['user_id', 'role']\n",
    "tutors = tutors.groupby(by='user_id').first().reset_index() # Уберём дубликаты"
   ]
  },
  {
   "cell_type": "code",
   "execution_count": 19,
   "metadata": {},
   "outputs": [],
   "source": [
    "events = pd.merge(participants, tutors, how='left', on='user_id') # Поставим к номерам уроков id учителей\n",
    "events = events[events['role'] == 'tutor'] # Оставим только учителей \n",
    "events['event_id'] = events['event_id'].astype('float64')"
   ]
  },
  {
   "cell_type": "code",
   "execution_count": 20,
   "metadata": {},
   "outputs": [],
   "source": [
    "phys = lessons[lessons['subject'] == 'phys'].reset_index(drop=True)\n",
    "phys['scheduled_time'] = phys['scheduled_time'].apply(lambda x: x[:18]) # Уберём миллисекунды, если они есть\n",
    "phys['scheduled_time'] = phys['scheduled_time'].apply(lambda x: datetime.strptime(x, '%Y-%m-%d%H:%M:%S')) # Удобный формат\n",
    "phys['scheduled_time'] = phys['scheduled_time'] + timedelta(hours=3) # Прибавим 3 часа (московское время)\n",
    "phys['scheduled_time'] = phys['scheduled_time'].apply(lambda x: x.date()) # Оставим только даты"
   ]
  },
  {
   "cell_type": "code",
   "execution_count": 21,
   "metadata": {},
   "outputs": [],
   "source": [
    "phys = pd.merge(phys, quality, how='left', on='id') # Поставили оценки за каждый урок по физике"
   ]
  },
  {
   "cell_type": "code",
   "execution_count": 22,
   "metadata": {},
   "outputs": [],
   "source": [
    "final = pd.merge(phys, events, how='left', on='event_id')\n",
    "final = final.groupby(by='id').first()\n",
    "final.reset_index(inplace=True)\n",
    "final.drop(['subject', 'role'], axis=1, inplace=True)"
   ]
  },
  {
   "cell_type": "code",
   "execution_count": 23,
   "metadata": {},
   "outputs": [],
   "source": [
    "dates = final['scheduled_time'].unique().tolist()\n",
    "dates.sort()"
   ]
  },
  {
   "cell_type": "code",
   "execution_count": 24,
   "metadata": {
    "scrolled": false
   },
   "outputs": [
    {
     "name": "stdout",
     "output_type": "stream",
     "text": [
      "2020-01-11 8fe03f08-8581-430c-a590-9888ab36deb3 4.5\n",
      "2020-01-12 696c838e-c054-4e9f-a51a-50bf5660f364 4.9\n",
      "2020-01-13 2fa2ab62-f1b0-4036-872f-bcfd9a8686ff 5.0\n",
      "2020-01-14 c6718d0e-976c-4d6c-b0e0-32c770776567 4.0\n",
      "2020-01-15 603b8641-c6f6-4d89-ac89-88e50d45aa0d 5.0\n",
      "2020-01-16 2fa2ab62-f1b0-4036-872f-bcfd9a8686ff 4.0\n",
      "2020-01-17 696c838e-c054-4e9f-a51a-50bf5660f364 4.5\n",
      "2020-01-18 43efce48-94b2-4412-857f-223d45969008 4.0\n",
      "2020-01-19 be676776-8366-4c71-8a35-d58014806eb5 4.5\n",
      "2020-01-20 30a19496-bdaf-461c-abbc-2709ae520201 4.5\n"
     ]
    }
   ],
   "source": [
    "for i in dates:\n",
    "    day_lessons = final[final['scheduled_time'] == i]\n",
    "    day_lessons = day_lessons.groupby(by='user_id')['tech_quality'].mean()\n",
    "    day_lessons = day_lessons.reset_index()\n",
    "    day_lessons = day_lessons[day_lessons['tech_quality'].notna()]\n",
    "    m = day_lessons['tech_quality'].min()\n",
    "    print(i, day_lessons[day_lessons['tech_quality'] == m].iloc[0].user_id, m)"
   ]
  }
 ],
 "metadata": {
  "kernelspec": {
   "display_name": "Python 3",
   "language": "python",
   "name": "python3"
  },
  "language_info": {
   "codemirror_mode": {
    "name": "ipython",
    "version": 3
   },
   "file_extension": ".py",
   "mimetype": "text/x-python",
   "name": "python",
   "nbconvert_exporter": "python",
   "pygments_lexer": "ipython3",
   "version": "3.7.4"
  }
 },
 "nbformat": 4,
 "nbformat_minor": 2
}
